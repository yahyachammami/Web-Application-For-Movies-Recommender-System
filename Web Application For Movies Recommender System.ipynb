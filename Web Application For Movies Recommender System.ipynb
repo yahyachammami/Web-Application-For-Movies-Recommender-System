{
 "cells": [
  {
   "cell_type": "markdown",
   "metadata": {},
   "source": [
    "# Web Application For Movies Recommender System\n",
    "\n",
    "## Rohit Shirudkar - Yahia Chammami"
   ]
  },
  {
   "attachments": {},
   "cell_type": "markdown",
   "metadata": {},
   "source": [
    "***\n",
    "A recommender system aims to suggest relevant content or products to users that might be liked or purchased by them. It helps to find items that the user is looking for — and they don’t even realize it until the recommendation is displayed. Different strategies have to be applied for different clients and they are determined by available data\n",
    "***"
   ]
  },
  {
   "cell_type": "markdown",
   "metadata": {},
   "source": [
    "### There are two main techniques used in recommendation system, known as content-based filtering and collaborative filtering\n",
    "\n",
    "### Content Based :\n",
    "    Content-based filtering uses item features to recommend other items similar to what the user likes, based on their previous actions or explicit feedback.For example, if user A watched two horror movies, another horror movie will be proposed to him.\n",
    "### Collaborative Filtering :\n",
    "    To address some of the limitations of content-based filtering, collaborative filtering uses similarities between users and items simultaneously to provide recommendations. Collaborative filtering models can recommend an item to user A based on the interests of a similar user B. Main advantage is that they learn users’ embeddings automatically, without the need for hand-engineering.\n",
    "    \n",
    "***"
   ]
  },
  {
   "cell_type": "markdown",
   "metadata": {},
   "source": [
    "### Importing Libraries & Datasets "
   ]
  },
  {
   "cell_type": "code",
   "execution_count": 1,
   "metadata": {
    "execution": {
     "iopub.execute_input": "2022-10-04T06:44:51.475120Z",
     "iopub.status.busy": "2022-10-04T06:44:51.474689Z",
     "iopub.status.idle": "2022-10-04T06:44:51.482866Z",
     "shell.execute_reply": "2022-10-04T06:44:51.481678Z",
     "shell.execute_reply.started": "2022-10-04T06:44:51.475075Z"
    }
   },
   "outputs": [],
   "source": [
    "import pandas as pd # Python library for data analysis and data frame\n",
    "import numpy as np # Numerical Python library for linear algebra and computations\n",
    "pd.set_option('display.max_columns', None) # code to display all columns\n",
    "\n",
    "# Visualisation libraries\n",
    "import matplotlib.pyplot as plt\n",
    "import seaborn as sns\n",
    "\n",
    "# libraries for text processing\n",
    "import nltk\n",
    "from nltk.stem.snowball import SnowballStemmer\n",
    "from sklearn.feature_extraction.text import TfidfVectorizer\n",
    "from sklearn.metrics.pairwise import cosine_similarity\n",
    "\n",
    "# to display images\n",
    "from skimage import io\n",
    "\n",
    "# to save the required files\n",
    "import pickle\n",
    "\n",
    "import warnings\n",
    "warnings.filterwarnings('ignore') # To prevent kernel from showing any warning"
   ]
  },
  {
   "cell_type": "code",
   "execution_count": 2,
   "metadata": {
    "execution": {
     "iopub.execute_input": "2022-10-04T05:34:57.826137Z",
     "iopub.status.busy": "2022-10-04T05:34:57.825721Z",
     "iopub.status.idle": "2022-10-04T05:35:05.892212Z",
     "shell.execute_reply": "2022-10-04T05:35:05.891084Z",
     "shell.execute_reply.started": "2022-10-04T05:34:57.826106Z"
    }
   },
   "outputs": [],
   "source": [
    "df = pd.read_csv('movies.csv')"
   ]
  },
  {
   "cell_type": "markdown",
   "metadata": {},
   "source": [
    "### Initial Analysis "
   ]
  },
  {
   "cell_type": "markdown",
   "metadata": {},
   "source": [
    "Understand The Data 🧠"
   ]
  },
  {
   "cell_type": "code",
   "execution_count": 3,
   "metadata": {
    "execution": {
     "iopub.execute_input": "2022-10-04T05:35:05.894562Z",
     "iopub.status.busy": "2022-10-04T05:35:05.894182Z",
     "iopub.status.idle": "2022-10-04T05:35:05.921879Z",
     "shell.execute_reply": "2022-10-04T05:35:05.920501Z",
     "shell.execute_reply.started": "2022-10-04T05:35:05.894531Z"
    }
   },
   "outputs": [
    {
     "data": {
      "text/html": [
       "<div>\n",
       "<style scoped>\n",
       "    .dataframe tbody tr th:only-of-type {\n",
       "        vertical-align: middle;\n",
       "    }\n",
       "\n",
       "    .dataframe tbody tr th {\n",
       "        vertical-align: top;\n",
       "    }\n",
       "\n",
       "    .dataframe thead th {\n",
       "        text-align: right;\n",
       "    }\n",
       "</style>\n",
       "<table border=\"1\" class=\"dataframe\">\n",
       "  <thead>\n",
       "    <tr style=\"text-align: right;\">\n",
       "      <th></th>\n",
       "      <th>id</th>\n",
       "      <th>title</th>\n",
       "      <th>genres</th>\n",
       "      <th>original_language</th>\n",
       "      <th>overview</th>\n",
       "      <th>popularity</th>\n",
       "      <th>production_companies</th>\n",
       "      <th>release_date</th>\n",
       "      <th>budget</th>\n",
       "      <th>revenue</th>\n",
       "      <th>runtime</th>\n",
       "      <th>status</th>\n",
       "      <th>tagline</th>\n",
       "      <th>vote_average</th>\n",
       "      <th>vote_count</th>\n",
       "      <th>credits</th>\n",
       "      <th>keywords</th>\n",
       "      <th>poster_path</th>\n",
       "      <th>backdrop_path</th>\n",
       "      <th>recommendations</th>\n",
       "    </tr>\n",
       "  </thead>\n",
       "  <tbody>\n",
       "    <tr>\n",
       "      <th>0</th>\n",
       "      <td>760161</td>\n",
       "      <td>Orphan: First Kill</td>\n",
       "      <td>Horror-Thriller</td>\n",
       "      <td>en</td>\n",
       "      <td>After escaping from an Estonian psychiatric fa...</td>\n",
       "      <td>8098.027</td>\n",
       "      <td>Dark Castle Entertainment-Entertainment One-Ea...</td>\n",
       "      <td>2022-07-27</td>\n",
       "      <td>0.0</td>\n",
       "      <td>9572765.0</td>\n",
       "      <td>99.0</td>\n",
       "      <td>Released</td>\n",
       "      <td>There's always been something wrong with Esther.</td>\n",
       "      <td>6.963</td>\n",
       "      <td>821.0</td>\n",
       "      <td>Isabelle Fuhrman-Julia Stiles-Rossif Sutherlan...</td>\n",
       "      <td>psychopath-family secrets-prequel-murder-imper...</td>\n",
       "      <td>/wSqAXL1EHVJ3MOnJzMhUngc8gFs.jpg</td>\n",
       "      <td>/5GA3vV1aWWHTSDO5eno8V5zDo8r.jpg</td>\n",
       "      <td>606237-818502-744276-721930-1001925-762504-982...</td>\n",
       "    </tr>\n",
       "    <tr>\n",
       "      <th>1</th>\n",
       "      <td>718930</td>\n",
       "      <td>Bullet Train</td>\n",
       "      <td>Action-Comedy-Thriller</td>\n",
       "      <td>en</td>\n",
       "      <td>Unlucky assassin Ladybug is determined to do h...</td>\n",
       "      <td>7949.491</td>\n",
       "      <td>Columbia Pictures-87North Productions</td>\n",
       "      <td>2022-07-03</td>\n",
       "      <td>90000000.0</td>\n",
       "      <td>231398720.0</td>\n",
       "      <td>126.0</td>\n",
       "      <td>Released</td>\n",
       "      <td>The end of the line is just the beginning.</td>\n",
       "      <td>7.497</td>\n",
       "      <td>1238.0</td>\n",
       "      <td>Brad Pitt-Joey King-Aaron Taylor-Johnson-Brian...</td>\n",
       "      <td>japan-assassin-based on novel or book-mission-...</td>\n",
       "      <td>/tVxDe01Zy3kZqaZRNiXFGDICdZk.jpg</td>\n",
       "      <td>/y2Ca1neKke2mGPMaHzlCNDVZqsK.jpg</td>\n",
       "      <td>1002564-762504-755566-1002171-682507-884453-55...</td>\n",
       "    </tr>\n",
       "    <tr>\n",
       "      <th>2</th>\n",
       "      <td>744276</td>\n",
       "      <td>After Ever Happy</td>\n",
       "      <td>Romance-Drama</td>\n",
       "      <td>en</td>\n",
       "      <td>As a shocking truth about a couple's families ...</td>\n",
       "      <td>4017.342</td>\n",
       "      <td>Voltage Pictures-Vertical Entertainment-CalMap...</td>\n",
       "      <td>2022-08-24</td>\n",
       "      <td>0.0</td>\n",
       "      <td>0.0</td>\n",
       "      <td>95.0</td>\n",
       "      <td>Released</td>\n",
       "      <td>They can't stop loving each other.</td>\n",
       "      <td>6.830</td>\n",
       "      <td>215.0</td>\n",
       "      <td>Josephine Langford-Hero Fiennes Tiffin-Louise ...</td>\n",
       "      <td>based on novel or book-love-teenage crush</td>\n",
       "      <td>/6b7swg6DLqXCO3XUsMnv6RwDMW2.jpg</td>\n",
       "      <td>/rwgmDkIEv8VjAsWx25ottJrFvpO.jpg</td>\n",
       "      <td>20966-676701-419669-804251-766907-619803-67670...</td>\n",
       "    </tr>\n",
       "    <tr>\n",
       "      <th>3</th>\n",
       "      <td>579974</td>\n",
       "      <td>RRR</td>\n",
       "      <td>Action-Drama</td>\n",
       "      <td>te</td>\n",
       "      <td>A fictional history of two legendary revolutio...</td>\n",
       "      <td>3416.323</td>\n",
       "      <td>Lyca Productions-DVV Entertainment-Pen Studios</td>\n",
       "      <td>2022-03-24</td>\n",
       "      <td>69000000.0</td>\n",
       "      <td>160000000.0</td>\n",
       "      <td>182.0</td>\n",
       "      <td>Released</td>\n",
       "      <td>Rise, roar, revolt.</td>\n",
       "      <td>7.774</td>\n",
       "      <td>370.0</td>\n",
       "      <td>N.T. Rama Rao Jr.-Ram Charan-Alia Bhatt-Ajay D...</td>\n",
       "      <td>revolution-liberation-slavery-freedom fighter-...</td>\n",
       "      <td>/wE0I6efAW4cDDmZQWtwZMOW44EJ.jpg</td>\n",
       "      <td>/i0Y0wP8H6SRgjr6QmuwbtQbS24D.jpg</td>\n",
       "      <td>601337-889741-587412-766116-792358-680058-2372...</td>\n",
       "    </tr>\n",
       "    <tr>\n",
       "      <th>4</th>\n",
       "      <td>532639</td>\n",
       "      <td>Pinocchio</td>\n",
       "      <td>Fantasy-Adventure-Family</td>\n",
       "      <td>en</td>\n",
       "      <td>A wooden puppet embarks on a thrilling adventu...</td>\n",
       "      <td>3239.378</td>\n",
       "      <td>Walt Disney Pictures-Depth of Field</td>\n",
       "      <td>2022-09-07</td>\n",
       "      <td>0.0</td>\n",
       "      <td>0.0</td>\n",
       "      <td>105.0</td>\n",
       "      <td>Released</td>\n",
       "      <td>The timeless classic.</td>\n",
       "      <td>6.753</td>\n",
       "      <td>800.0</td>\n",
       "      <td>Benjamin Evan Ainsworth-Tom Hanks-Joseph Gordo...</td>\n",
       "      <td>fairy-musical-puppet-live action and animation...</td>\n",
       "      <td>/g8sclIV4gj1TZqUpnL82hKOTK3B.jpg</td>\n",
       "      <td>/nnUQqlVZeEGuCRx8SaoCU4XVHJN.jpg</td>\n",
       "      <td>985939-610150-760741-921360-576925-616037-5799...</td>\n",
       "    </tr>\n",
       "  </tbody>\n",
       "</table>\n",
       "</div>"
      ],
      "text/plain": [
       "       id               title                    genres original_language  \\\n",
       "0  760161  Orphan: First Kill           Horror-Thriller                en   \n",
       "1  718930        Bullet Train    Action-Comedy-Thriller                en   \n",
       "2  744276    After Ever Happy             Romance-Drama                en   \n",
       "3  579974                 RRR              Action-Drama                te   \n",
       "4  532639           Pinocchio  Fantasy-Adventure-Family                en   \n",
       "\n",
       "                                            overview  popularity  \\\n",
       "0  After escaping from an Estonian psychiatric fa...    8098.027   \n",
       "1  Unlucky assassin Ladybug is determined to do h...    7949.491   \n",
       "2  As a shocking truth about a couple's families ...    4017.342   \n",
       "3  A fictional history of two legendary revolutio...    3416.323   \n",
       "4  A wooden puppet embarks on a thrilling adventu...    3239.378   \n",
       "\n",
       "                                production_companies release_date      budget  \\\n",
       "0  Dark Castle Entertainment-Entertainment One-Ea...   2022-07-27         0.0   \n",
       "1              Columbia Pictures-87North Productions   2022-07-03  90000000.0   \n",
       "2  Voltage Pictures-Vertical Entertainment-CalMap...   2022-08-24         0.0   \n",
       "3     Lyca Productions-DVV Entertainment-Pen Studios   2022-03-24  69000000.0   \n",
       "4                Walt Disney Pictures-Depth of Field   2022-09-07         0.0   \n",
       "\n",
       "       revenue  runtime    status  \\\n",
       "0    9572765.0     99.0  Released   \n",
       "1  231398720.0    126.0  Released   \n",
       "2          0.0     95.0  Released   \n",
       "3  160000000.0    182.0  Released   \n",
       "4          0.0    105.0  Released   \n",
       "\n",
       "                                            tagline  vote_average  vote_count  \\\n",
       "0  There's always been something wrong with Esther.         6.963       821.0   \n",
       "1        The end of the line is just the beginning.         7.497      1238.0   \n",
       "2                They can't stop loving each other.         6.830       215.0   \n",
       "3                               Rise, roar, revolt.         7.774       370.0   \n",
       "4                             The timeless classic.         6.753       800.0   \n",
       "\n",
       "                                             credits  \\\n",
       "0  Isabelle Fuhrman-Julia Stiles-Rossif Sutherlan...   \n",
       "1  Brad Pitt-Joey King-Aaron Taylor-Johnson-Brian...   \n",
       "2  Josephine Langford-Hero Fiennes Tiffin-Louise ...   \n",
       "3  N.T. Rama Rao Jr.-Ram Charan-Alia Bhatt-Ajay D...   \n",
       "4  Benjamin Evan Ainsworth-Tom Hanks-Joseph Gordo...   \n",
       "\n",
       "                                            keywords  \\\n",
       "0  psychopath-family secrets-prequel-murder-imper...   \n",
       "1  japan-assassin-based on novel or book-mission-...   \n",
       "2          based on novel or book-love-teenage crush   \n",
       "3  revolution-liberation-slavery-freedom fighter-...   \n",
       "4  fairy-musical-puppet-live action and animation...   \n",
       "\n",
       "                        poster_path                     backdrop_path  \\\n",
       "0  /wSqAXL1EHVJ3MOnJzMhUngc8gFs.jpg  /5GA3vV1aWWHTSDO5eno8V5zDo8r.jpg   \n",
       "1  /tVxDe01Zy3kZqaZRNiXFGDICdZk.jpg  /y2Ca1neKke2mGPMaHzlCNDVZqsK.jpg   \n",
       "2  /6b7swg6DLqXCO3XUsMnv6RwDMW2.jpg  /rwgmDkIEv8VjAsWx25ottJrFvpO.jpg   \n",
       "3  /wE0I6efAW4cDDmZQWtwZMOW44EJ.jpg  /i0Y0wP8H6SRgjr6QmuwbtQbS24D.jpg   \n",
       "4  /g8sclIV4gj1TZqUpnL82hKOTK3B.jpg  /nnUQqlVZeEGuCRx8SaoCU4XVHJN.jpg   \n",
       "\n",
       "                                     recommendations  \n",
       "0  606237-818502-744276-721930-1001925-762504-982...  \n",
       "1  1002564-762504-755566-1002171-682507-884453-55...  \n",
       "2  20966-676701-419669-804251-766907-619803-67670...  \n",
       "3  601337-889741-587412-766116-792358-680058-2372...  \n",
       "4  985939-610150-760741-921360-576925-616037-5799...  "
      ]
     },
     "execution_count": 3,
     "metadata": {},
     "output_type": "execute_result"
    }
   ],
   "source": [
    "# How does the data look like?\n",
    "df.head()"
   ]
  },
  {
   "cell_type": "code",
   "execution_count": 4,
   "metadata": {
    "execution": {
     "iopub.execute_input": "2022-10-04T05:35:05.924625Z",
     "iopub.status.busy": "2022-10-04T05:35:05.923574Z",
     "iopub.status.idle": "2022-10-04T05:35:05.934890Z",
     "shell.execute_reply": "2022-10-04T05:35:05.933561Z",
     "shell.execute_reply.started": "2022-10-04T05:35:05.924578Z"
    }
   },
   "outputs": [
    {
     "data": {
      "text/plain": [
       "(744493, 20)"
      ]
     },
     "execution_count": 4,
     "metadata": {},
     "output_type": "execute_result"
    }
   ],
   "source": [
    "#How big is data?\n",
    "df.shape"
   ]
  },
  {
   "cell_type": "code",
   "execution_count": 5,
   "metadata": {
    "execution": {
     "iopub.execute_input": "2022-10-04T05:35:24.801763Z",
     "iopub.status.busy": "2022-10-04T05:35:24.800702Z",
     "iopub.status.idle": "2022-10-04T05:35:25.338057Z",
     "shell.execute_reply": "2022-10-04T05:35:25.336077Z",
     "shell.execute_reply.started": "2022-10-04T05:35:24.801721Z"
    }
   },
   "outputs": [
    {
     "name": "stdout",
     "output_type": "stream",
     "text": [
      "<class 'pandas.core.frame.DataFrame'>\n",
      "RangeIndex: 744493 entries, 0 to 744492\n",
      "Data columns (total 20 columns):\n",
      " #   Column                Non-Null Count   Dtype  \n",
      "---  ------                --------------   -----  \n",
      " 0   id                    744493 non-null  int64  \n",
      " 1   title                 744489 non-null  object \n",
      " 2   genres                523793 non-null  object \n",
      " 3   original_language     744493 non-null  object \n",
      " 4   overview              623360 non-null  object \n",
      " 5   popularity            744493 non-null  float64\n",
      " 6   production_companies  345206 non-null  object \n",
      " 7   release_date          687712 non-null  object \n",
      " 8   budget                744493 non-null  float64\n",
      " 9   revenue               744493 non-null  float64\n",
      " 10  runtime               706032 non-null  float64\n",
      " 11  status                744493 non-null  object \n",
      " 12  tagline               109989 non-null  object \n",
      " 13  vote_average          744493 non-null  float64\n",
      " 14  vote_count            744493 non-null  float64\n",
      " 15  credits               513164 non-null  object \n",
      " 16  keywords              215024 non-null  object \n",
      " 17  poster_path           545394 non-null  object \n",
      " 18  backdrop_path         225367 non-null  object \n",
      " 19  recommendations       43687 non-null   object \n",
      "dtypes: float64(6), int64(1), object(13)\n",
      "memory usage: 113.6+ MB\n"
     ]
    }
   ],
   "source": [
    "# What is the data type of cols?\n",
    "df.info()"
   ]
  },
  {
   "cell_type": "code",
   "execution_count": 6,
   "metadata": {
    "execution": {
     "iopub.execute_input": "2022-10-04T05:35:25.341157Z",
     "iopub.status.busy": "2022-10-04T05:35:25.340785Z",
     "iopub.status.idle": "2022-10-04T05:35:25.853768Z",
     "shell.execute_reply": "2022-10-04T05:35:25.852340Z",
     "shell.execute_reply.started": "2022-10-04T05:35:25.341121Z"
    }
   },
   "outputs": [
    {
     "data": {
      "text/plain": [
       "id                           0\n",
       "title                        4\n",
       "genres                  220700\n",
       "original_language            0\n",
       "overview                121133\n",
       "popularity                   0\n",
       "production_companies    399287\n",
       "release_date             56781\n",
       "budget                       0\n",
       "revenue                      0\n",
       "runtime                  38461\n",
       "status                       0\n",
       "tagline                 634504\n",
       "vote_average                 0\n",
       "vote_count                   0\n",
       "credits                 231329\n",
       "keywords                529469\n",
       "poster_path             199099\n",
       "backdrop_path           519126\n",
       "recommendations         700806\n",
       "dtype: int64"
      ]
     },
     "execution_count": 6,
     "metadata": {},
     "output_type": "execute_result"
    }
   ],
   "source": [
    "# Are there any missing values?\n",
    "df.isnull().sum()"
   ]
  },
  {
   "cell_type": "code",
   "execution_count": 7,
   "metadata": {
    "execution": {
     "iopub.execute_input": "2022-10-04T05:35:29.566217Z",
     "iopub.status.busy": "2022-10-04T05:35:29.565832Z",
     "iopub.status.idle": "2022-10-04T05:35:32.156364Z",
     "shell.execute_reply": "2022-10-04T05:35:32.155032Z",
     "shell.execute_reply.started": "2022-10-04T05:35:29.566186Z"
    }
   },
   "outputs": [
    {
     "data": {
      "text/plain": [
       "173"
      ]
     },
     "execution_count": 7,
     "metadata": {},
     "output_type": "execute_result"
    }
   ],
   "source": [
    "# Are there duplicate values?\n",
    "df.duplicated().sum()"
   ]
  },
  {
   "cell_type": "markdown",
   "metadata": {},
   "source": [
    "### Observations 👀</h3>\n",
    "       \n",
    "           1. There are more than 7 lakh rows and 20 columns \n",
    "           2. Data consists of 6 numeric columns and 14 object/string columns \n",
    "           3. There are many columns with lots of missing valuest\n",
    "           4. There are duplicate values present in data \n",
    "     "
   ]
  },
  {
   "cell_type": "markdown",
   "metadata": {},
   "source": [
    "### Preprocessing"
   ]
  },
  {
   "cell_type": "code",
   "execution_count": 8,
   "metadata": {
    "execution": {
     "iopub.execute_input": "2022-10-03T05:48:25.135978Z",
     "iopub.status.busy": "2022-10-03T05:48:25.135627Z",
     "iopub.status.idle": "2022-10-03T05:48:27.838587Z",
     "shell.execute_reply": "2022-10-03T05:48:27.837206Z",
     "shell.execute_reply.started": "2022-10-03T05:48:25.135946Z"
    }
   },
   "outputs": [],
   "source": [
    "# lets get rid of the duplicate values\n",
    "df.drop_duplicates(inplace=True)"
   ]
  },
  {
   "cell_type": "markdown",
   "metadata": {},
   "source": [
    "Let's check if there are any movies with same title"
   ]
  },
  {
   "cell_type": "code",
   "execution_count": 9,
   "metadata": {
    "execution": {
     "iopub.execute_input": "2022-10-03T05:48:27.840803Z",
     "iopub.status.busy": "2022-10-03T05:48:27.840417Z",
     "iopub.status.idle": "2022-10-03T05:48:27.987020Z",
     "shell.execute_reply": "2022-10-03T05:48:27.985673Z",
     "shell.execute_reply.started": "2022-10-03T05:48:27.840769Z"
    }
   },
   "outputs": [
    {
     "data": {
      "text/plain": [
       "168414"
      ]
     },
     "execution_count": 9,
     "metadata": {},
     "output_type": "execute_result"
    }
   ],
   "source": [
    "df['title'].duplicated().sum()"
   ]
  },
  {
   "cell_type": "markdown",
   "metadata": {},
   "source": [
    "Wow! there are 168580 movies with same title. Now these might be duplicate movies but there's possibility that some might be different movies with same title  \n",
    "Thats why Let's check if there are any movies with same title and same release date"
   ]
  },
  {
   "cell_type": "code",
   "execution_count": 10,
   "metadata": {
    "execution": {
     "iopub.execute_input": "2022-10-04T05:44:34.972025Z",
     "iopub.status.busy": "2022-10-04T05:44:34.971569Z",
     "iopub.status.idle": "2022-10-04T05:44:35.377482Z",
     "shell.execute_reply": "2022-10-04T05:44:35.376378Z",
     "shell.execute_reply.started": "2022-10-04T05:44:34.971993Z"
    }
   },
   "outputs": [
    {
     "data": {
      "text/plain": [
       "84371"
      ]
     },
     "execution_count": 10,
     "metadata": {},
     "output_type": "execute_result"
    }
   ],
   "source": [
    "df[['title','release_date']].duplicated().sum()"
   ]
  },
  {
   "cell_type": "code",
   "execution_count": 11,
   "metadata": {
    "execution": {
     "iopub.execute_input": "2022-10-04T05:59:01.626110Z",
     "iopub.status.busy": "2022-10-04T05:59:01.625734Z",
     "iopub.status.idle": "2022-10-04T05:59:02.183767Z",
     "shell.execute_reply": "2022-10-04T05:59:02.182496Z",
     "shell.execute_reply.started": "2022-10-04T05:59:01.626080Z"
    }
   },
   "outputs": [],
   "source": [
    "# lets get rid of the duplicate movies\n",
    "df.drop_duplicates(subset=['title','release_date'], inplace=True)"
   ]
  },
  {
   "cell_type": "code",
   "execution_count": 12,
   "metadata": {
    "execution": {
     "iopub.execute_input": "2022-10-04T05:59:18.532458Z",
     "iopub.status.busy": "2022-10-04T05:59:18.531768Z",
     "iopub.status.idle": "2022-10-04T05:59:18.539879Z",
     "shell.execute_reply": "2022-10-04T05:59:18.538660Z",
     "shell.execute_reply.started": "2022-10-04T05:59:18.532424Z"
    }
   },
   "outputs": [
    {
     "data": {
      "text/plain": [
       "(659949, 20)"
      ]
     },
     "execution_count": 12,
     "metadata": {},
     "output_type": "execute_result"
    }
   ],
   "source": [
    "df.shape"
   ]
  },
  {
   "cell_type": "markdown",
   "metadata": {},
   "source": [
    "Now we have 6 lakh movies but most of the movies have 0 vote count. so we will consider only those movies which have at least more than 20 vote counts."
   ]
  },
  {
   "cell_type": "code",
   "execution_count": 13,
   "metadata": {
    "execution": {
     "iopub.execute_input": "2022-10-04T06:02:09.387058Z",
     "iopub.status.busy": "2022-10-04T06:02:09.386642Z",
     "iopub.status.idle": "2022-10-04T06:02:09.425786Z",
     "shell.execute_reply": "2022-10-04T06:02:09.424533Z",
     "shell.execute_reply.started": "2022-10-04T06:02:09.387027Z"
    }
   },
   "outputs": [],
   "source": [
    "# filtering the movies\n",
    "df1 = df[df.vote_count >= 20].reset_index()"
   ]
  },
  {
   "cell_type": "code",
   "execution_count": 14,
   "metadata": {
    "execution": {
     "iopub.execute_input": "2022-10-04T06:02:11.537207Z",
     "iopub.status.busy": "2022-10-04T06:02:11.536779Z",
     "iopub.status.idle": "2022-10-04T06:02:11.591928Z",
     "shell.execute_reply": "2022-10-04T06:02:11.590733Z",
     "shell.execute_reply.started": "2022-10-04T06:02:11.537172Z"
    }
   },
   "outputs": [
    {
     "data": {
      "text/plain": [
       "index                       0\n",
       "id                          0\n",
       "title                       0\n",
       "genres                    179\n",
       "original_language           0\n",
       "overview                  475\n",
       "popularity                  0\n",
       "production_companies     3306\n",
       "release_date                2\n",
       "budget                      0\n",
       "revenue                     0\n",
       "runtime                    16\n",
       "status                      0\n",
       "tagline                 20420\n",
       "vote_average                0\n",
       "vote_count                  0\n",
       "credits                   647\n",
       "keywords                 9576\n",
       "poster_path               138\n",
       "backdrop_path            2436\n",
       "recommendations         11658\n",
       "dtype: int64"
      ]
     },
     "execution_count": 14,
     "metadata": {},
     "output_type": "execute_result"
    }
   ],
   "source": [
    "df1.isnull().sum()"
   ]
  },
  {
   "cell_type": "code",
   "execution_count": 15,
   "metadata": {
    "execution": {
     "iopub.execute_input": "2022-10-04T06:12:23.441068Z",
     "iopub.status.busy": "2022-10-04T06:12:23.440682Z",
     "iopub.status.idle": "2022-10-04T06:12:23.493191Z",
     "shell.execute_reply": "2022-10-04T06:12:23.492099Z",
     "shell.execute_reply.started": "2022-10-04T06:12:23.441039Z"
    }
   },
   "outputs": [],
   "source": [
    "# Replace the Nan with ''\n",
    "df1.fillna('', inplace=True)"
   ]
  },
  {
   "cell_type": "markdown",
   "metadata": {},
   "source": [
    "We are making content based recommendation system and genres , overview are very important to find similar movies. So i will delete movies which don't have genres and overview."
   ]
  },
  {
   "cell_type": "code",
   "execution_count": 16,
   "metadata": {
    "execution": {
     "iopub.execute_input": "2022-10-04T06:16:24.257249Z",
     "iopub.status.busy": "2022-10-04T06:16:24.256809Z",
     "iopub.status.idle": "2022-10-04T06:16:24.307266Z",
     "shell.execute_reply": "2022-10-04T06:16:24.306352Z",
     "shell.execute_reply.started": "2022-10-04T06:16:24.257208Z"
    }
   },
   "outputs": [],
   "source": [
    "# finding index with '' genres and overview\n",
    "index = df1[(df1['genres']=='') & (df1['overview']=='')].index"
   ]
  },
  {
   "cell_type": "code",
   "execution_count": 17,
   "metadata": {
    "execution": {
     "iopub.execute_input": "2022-10-04T06:16:24.866858Z",
     "iopub.status.busy": "2022-10-04T06:16:24.866175Z",
     "iopub.status.idle": "2022-10-04T06:16:24.892164Z",
     "shell.execute_reply": "2022-10-04T06:16:24.890991Z",
     "shell.execute_reply.started": "2022-10-04T06:16:24.866821Z"
    }
   },
   "outputs": [],
   "source": [
    "# droping those index\n",
    "df1.drop(index, inplace=True)"
   ]
  },
  {
   "cell_type": "markdown",
   "metadata": {},
   "source": [
    "* genres, keywords and credits are seperated by '-'\n",
    "* So replacing that with space\n",
    "* and from credits only extracting first values words"
   ]
  },
  {
   "cell_type": "code",
   "execution_count": 18,
   "metadata": {
    "execution": {
     "iopub.execute_input": "2022-10-04T06:46:07.905885Z",
     "iopub.status.busy": "2022-10-04T06:46:07.905464Z",
     "iopub.status.idle": "2022-10-04T06:46:08.009318Z",
     "shell.execute_reply": "2022-10-04T06:46:08.007566Z",
     "shell.execute_reply.started": "2022-10-04T06:46:07.905852Z"
    }
   },
   "outputs": [],
   "source": [
    "df1['genres'] = df1['genres'].apply(lambda x: ' '.join(x.split('-')))\n",
    "df1['keywords'] = df1['keywords'].apply(lambda x: ' '.join(x.split('-')))\n",
    "df1['credits'] = df1['credits'].apply(lambda x: ' '.join(x.replace(' ', '').split('-')[:5]))"
   ]
  },
  {
   "cell_type": "markdown",
   "metadata": {},
   "source": [
    "### Creating Tags "
   ]
  },
  {
   "cell_type": "markdown",
   "metadata": {},
   "source": [
    "Lets create a column with all the important columns which describe a movie, so we can create tags out of it"
   ]
  },
  {
   "cell_type": "code",
   "execution_count": 19,
   "metadata": {
    "execution": {
     "iopub.execute_input": "2022-10-04T06:46:09.718939Z",
     "iopub.status.busy": "2022-10-04T06:46:09.718462Z",
     "iopub.status.idle": "2022-10-04T06:46:09.882911Z",
     "shell.execute_reply": "2022-10-04T06:46:09.881097Z",
     "shell.execute_reply.started": "2022-10-04T06:46:09.718905Z"
    }
   },
   "outputs": [],
   "source": [
    "df1['tags'] = df1['overview'] +' '+ df1['genres'] +' '+ df1['keywords'] +' '+ df1['credits'] +' '+ df1['original_language']"
   ]
  },
  {
   "cell_type": "code",
   "execution_count": 20,
   "metadata": {
    "execution": {
     "iopub.execute_input": "2022-10-04T06:46:10.236722Z",
     "iopub.status.busy": "2022-10-04T06:46:10.236310Z",
     "iopub.status.idle": "2022-10-04T06:46:10.246709Z",
     "shell.execute_reply": "2022-10-04T06:46:10.245173Z",
     "shell.execute_reply.started": "2022-10-04T06:46:10.236690Z"
    }
   },
   "outputs": [
    {
     "data": {
      "text/plain": [
       "'After escaping from an Estonian psychiatric facility Leena Klammer travels to America by impersonating Esther the missing daughter of a wealthy family. But when her mask starts to slip she is put against a mother who will protect her family from the murderous “child” at any cost. Horror Thriller psychopath family secrets prequel murder impersonator mental patient psycho killer escaped mental patient missing daughter estonia female psychopath IsabelleFuhrman JuliaStiles RossifSutherland MatthewFinlan HiroKanagawa en'"
      ]
     },
     "execution_count": 20,
     "metadata": {},
     "output_type": "execute_result"
    }
   ],
   "source": [
    "df1.tags[0]"
   ]
  },
  {
   "cell_type": "markdown",
   "metadata": {},
   "source": [
    "Let's apply stemming on tags column\n",
    "\n",
    "<div class=\"alert alert-info\" style=\"font-size:14px; font-family:verdana; line-height: 1.7em;\">\n",
    "    📌 &nbsp; Stemming usually refers to a crude heuristic process that chops off the ends of words in the hope of achieving this goal correctly most of the time, and often includes the removal of derivational affixes.\n",
    "</div>"
   ]
  },
  {
   "cell_type": "code",
   "execution_count": 21,
   "metadata": {
    "execution": {
     "iopub.execute_input": "2022-10-04T06:46:11.238562Z",
     "iopub.status.busy": "2022-10-04T06:46:11.237959Z",
     "iopub.status.idle": "2022-10-04T06:46:50.461826Z",
     "shell.execute_reply": "2022-10-04T06:46:50.460515Z",
     "shell.execute_reply.started": "2022-10-04T06:46:11.238518Z"
    }
   },
   "outputs": [],
   "source": [
    "stemmer = SnowballStemmer(\"english\")\n",
    "def stem(text):\n",
    "    y = []\n",
    "    \n",
    "    for i in text.split():\n",
    "        y.append(stemmer.stem(i))\n",
    "        \n",
    "    return ' '.join(y)\n",
    "\n",
    "df1['tags'] = df1['tags'].apply(stem)"
   ]
  },
  {
   "cell_type": "code",
   "execution_count": 22,
   "metadata": {
    "execution": {
     "iopub.execute_input": "2022-10-04T06:46:50.467041Z",
     "iopub.status.busy": "2022-10-04T06:46:50.466123Z",
     "iopub.status.idle": "2022-10-04T06:46:50.767007Z",
     "shell.execute_reply": "2022-10-04T06:46:50.765835Z",
     "shell.execute_reply.started": "2022-10-04T06:46:50.466998Z"
    }
   },
   "outputs": [],
   "source": [
    "# Removing punctuation \n",
    "df1['tags'] = df1['tags'].str.replace('[^\\w\\s]','')"
   ]
  },
  {
   "cell_type": "markdown",
   "metadata": {},
   "source": [
    "<div class=\"alert alert-info\" style=\"font-size:14px; font-family:verdana; line-height: 1.7em;\">\n",
    "    📌 &nbsp; TF-IDF is an abbreviation for Term Frequency Inverse Document Frequency. This is very common algorithm to transform text into a meaningful representation of numbers which is used to fit machine algorithm for prediction.\n",
    "</div>\n"
   ]
  },
  {
   "cell_type": "code",
   "execution_count": 23,
   "metadata": {
    "execution": {
     "iopub.execute_input": "2022-10-04T06:46:50.768977Z",
     "iopub.status.busy": "2022-10-04T06:46:50.768614Z",
     "iopub.status.idle": "2022-10-04T06:46:50.775204Z",
     "shell.execute_reply": "2022-10-04T06:46:50.773957Z",
     "shell.execute_reply.started": "2022-10-04T06:46:50.768947Z"
    }
   },
   "outputs": [],
   "source": [
    "tfidf = TfidfVectorizer(stop_words='english')"
   ]
  },
  {
   "cell_type": "code",
   "execution_count": 24,
   "metadata": {
    "execution": {
     "iopub.execute_input": "2022-10-04T06:46:50.779448Z",
     "iopub.status.busy": "2022-10-04T06:46:50.778504Z",
     "iopub.status.idle": "2022-10-04T06:46:53.689794Z",
     "shell.execute_reply": "2022-10-04T06:46:53.688372Z",
     "shell.execute_reply.started": "2022-10-04T06:46:50.779399Z"
    }
   },
   "outputs": [],
   "source": [
    "tfidf_matrix = tfidf.fit_transform(df1['tags'])"
   ]
  },
  {
   "cell_type": "code",
   "execution_count": 25,
   "metadata": {
    "execution": {
     "iopub.execute_input": "2022-10-04T06:46:53.692052Z",
     "iopub.status.busy": "2022-10-04T06:46:53.691620Z",
     "iopub.status.idle": "2022-10-04T06:46:53.701023Z",
     "shell.execute_reply": "2022-10-04T06:46:53.699359Z",
     "shell.execute_reply.started": "2022-10-04T06:46:53.692018Z"
    }
   },
   "outputs": [
    {
     "data": {
      "text/plain": [
       "'after escap from an estonian psychiatr facil leena klammer travel to america by imperson esther the miss daughter of a wealthi family but when her mask start to slip she is put against a mother who will protect her famili from the murder child at ani cost horror thriller psychopath famili secret prequel murder imperson mental patient psycho killer escap mental patient miss daughter estonia femal psychopath isabellefuhrman juliastil rossifsutherland matthewfinlan hirokanagawa en'"
      ]
     },
     "execution_count": 25,
     "metadata": {},
     "output_type": "execute_result"
    }
   ],
   "source": [
    "df1.tags[0]"
   ]
  },
  {
   "cell_type": "markdown",
   "metadata": {},
   "source": [
    "### Recommendation System"
   ]
  },
  {
   "cell_type": "code",
   "execution_count": 26,
   "metadata": {
    "execution": {
     "iopub.execute_input": "2022-10-04T06:46:57.828322Z",
     "iopub.status.busy": "2022-10-04T06:46:57.827861Z",
     "iopub.status.idle": "2022-10-04T06:46:57.841594Z",
     "shell.execute_reply": "2022-10-04T06:46:57.840404Z",
     "shell.execute_reply.started": "2022-10-04T06:46:57.828268Z"
    }
   },
   "outputs": [],
   "source": [
    "# Function that takes in movie title as input and outputs most similar movies\n",
    "def get_recommendations(title):\n",
    "    # Get the index of the movie that matches the title\n",
    "    idx = df1.index[df1['title'] == title][0]\n",
    "    # show given movie poster\n",
    "    try:\n",
    "        a = io.imread(f'https://image.tmdb.org/t/p/w500/{df1.loc[idx, \"poster_path\"]}')\n",
    "        plt.imshow(a)\n",
    "        plt.axis('off')\n",
    "        plt.title(title)\n",
    "        plt.show()\n",
    "    except:pass\n",
    "    \n",
    "    print('Recommendations\\n')\n",
    "\n",
    "\n",
    "    # Get the pairwsie similarity scores of all movies with that movie\n",
    "    sim_scores = list(enumerate(\n",
    "        cosine_similarity(\n",
    "            tfidf_matrix,\n",
    "            tfidf_matrix[idx])))\n",
    "\n",
    "    # Sort the movies based on the similarity scores\n",
    "    sim_scores = sorted(sim_scores, key=lambda x: x[1], reverse=True)\n",
    "\n",
    "    # Get the scores of the 10 most similar movies\n",
    "    sim_scores = sim_scores[1:10]\n",
    "\n",
    "    # Get the movie indices\n",
    "    movie_indices = [i[0] for i in sim_scores]\n",
    "\n",
    "    # Return the top 10 most similar movies\n",
    "    result = df1.iloc[movie_indices]\n",
    "    \n",
    "    # show reco. movie posters\n",
    "    fig, ax = plt.subplots(2, 4, figsize=(15,15))\n",
    "    ax=ax.flatten()\n",
    "    for i, j in enumerate(result.poster_path):\n",
    "        try:\n",
    "            ax[i].axis('off')\n",
    "            ax[i].set_title(result.iloc[i].title)\n",
    "            a = io.imread(f'https://image.tmdb.org/t/p/w500/{j}')\n",
    "            ax[i].imshow(a)\n",
    "        except: pass\n",
    "    fig.tight_layout()\n",
    "    fig.show()"
   ]
  },
  {
   "cell_type": "code",
   "execution_count": null,
   "metadata": {
    "execution": {
     "iopub.execute_input": "2022-10-04T06:47:01.332782Z",
     "iopub.status.busy": "2022-10-04T06:47:01.332373Z",
     "iopub.status.idle": "2022-10-04T06:47:07.790350Z",
     "shell.execute_reply": "2022-10-04T06:47:07.788975Z",
     "shell.execute_reply.started": "2022-10-04T06:47:01.332749Z"
    }
   },
   "outputs": [],
   "source": [
    "get_recommendations(\"Venom\")"
   ]
  },
  {
   "cell_type": "code",
   "execution_count": 28,
   "metadata": {
    "execution": {
     "iopub.execute_input": "2022-10-04T06:50:54.979617Z",
     "iopub.status.busy": "2022-10-04T06:50:54.979079Z",
     "iopub.status.idle": "2022-10-04T06:50:55.437704Z",
     "shell.execute_reply": "2022-10-04T06:50:55.436369Z",
     "shell.execute_reply.started": "2022-10-04T06:50:54.979566Z"
    }
   },
   "outputs": [],
   "source": [
    "pickle.dump(df1,open('movie_list.pkl','wb'))\n",
    "pickle.dump(tfidf_matrix,open('tfidf_matrix.pkl','wb'))"
   ]
  },
  {
   "cell_type": "markdown",
   "metadata": {},
   "source": [
    "### Deployment "
   ]
  },
  {
   "cell_type": "code",
   "execution_count": 29,
   "metadata": {
    "execution": {
     "iopub.execute_input": "2022-10-04T06:49:09.279262Z",
     "iopub.status.busy": "2022-10-04T06:49:09.278824Z",
     "iopub.status.idle": "2022-10-04T06:49:33.442580Z",
     "shell.execute_reply": "2022-10-04T06:49:33.440832Z",
     "shell.execute_reply.started": "2022-10-04T06:49:09.279226Z"
    }
   },
   "outputs": [
    {
     "name": "stderr",
     "output_type": "stream",
     "text": [
      "\n",
      "[notice] A new release of pip is available: 23.3.1 -> 23.3.2\n",
      "[notice] To update, run: python.exe -m pip install --upgrade pip\n",
      "'npm' n’est pas reconnu en tant que commande interne\n",
      "ou externe, un programme exécutable ou un fichier de commandes.\n"
     ]
    }
   ],
   "source": [
    "# Install streamlit \n",
    "# NB : If any error occurs during installation process , run it again\n",
    "!pip install -q streamlit\n",
    "!npm install -g localtunnel -U"
   ]
  },
  {
   "cell_type": "markdown",
   "metadata": {},
   "source": [
    "* To deploy any file, it should be in .py format\n",
    "* Make a .py file and Put code for front and backhand inside .py file\n",
    "* %%writefile command will convert all the code within this cell into .py file"
   ]
  },
  {
   "cell_type": "code",
   "execution_count": null,
   "metadata": {
    "execution": {
     "iopub.execute_input": "2022-10-04T06:51:06.661695Z",
     "iopub.status.busy": "2022-10-04T06:51:06.661200Z",
     "iopub.status.idle": "2022-10-04T06:51:06.674810Z",
     "shell.execute_reply": "2022-10-04T06:51:06.673427Z",
     "shell.execute_reply.started": "2022-10-04T06:51:06.661662Z"
    }
   },
   "outputs": [],
   "source": [
    "%%writefile movie_recommendation_app.py\n",
    "\n",
    "import pickle\n",
    "import streamlit as st\n",
    "from sklearn.metrics.pairwise import cosine_similarity\n",
    "from PIL import Image\n",
    "\n",
    "@st.cache\n",
    "def get_recommendation(title):\n",
    "    idx = df1.index[df1['title'] == title][0]\n",
    "    poster = f'https://image.tmdb.org/t/p/w500/{df1.loc[idx, \"poster_path\"]}'\n",
    "\n",
    "    # Get the pairwsie similarity scores of all movies with that movie\n",
    "    sim_scores = list(enumerate(\n",
    "        cosine_similarity(\n",
    "            tfidf_matrix,\n",
    "            tfidf_matrix[idx])))\n",
    "\n",
    "    # Sort the movies based on the similarity scores\n",
    "    sim_scores = sorted(sim_scores, key=lambda x: x[1], reverse=True)\n",
    "\n",
    "    # Get the scores of the 10 most similar movies\n",
    "    sim_scores = sim_scores[1:13]\n",
    "\n",
    "    # Get the movie indices\n",
    "    movie_indices = [i[0] for i in sim_scores]\n",
    "\n",
    "    # Return the top 10 most similar movies\n",
    "    result = df1.iloc[movie_indices]\n",
    "\n",
    "    recommended_movie_names = []\n",
    "    recommended_movie_posters = []\n",
    "    recommended_movie_overview = []\n",
    "\n",
    "    for i, j in enumerate(result.poster_path):\n",
    "        recommended_movie_names.append(result.iloc[i].title)\n",
    "        recommended_movie_posters.append(f'https://image.tmdb.org/t/p/w500/{j}')\n",
    "        recommended_movie_overview.append(result.iloc[i].overview)\n",
    "    return poster, recommended_movie_names, recommended_movie_posters, recommended_movie_overview\n",
    "\n",
    "\n",
    "image = Image.open('Movie recommender system.jpg')\n",
    "st.image(image)\n",
    "\n",
    "st.markdown('You might have wondered sometime or at some point that how do platforms like Netflix or AmazonPrime Video are able to recommend us TV shows or movies, what kind of an algorithm do these websites use to recommend us movies. Well as complicated or difficult as it might seem this is simply just a mixture of some machine learning algorithms with some Natural Language Processing. ')\n",
    "st.markdown('There are two main techniques used in recommendation system, known as content-based filtering and collaborative filtering')\n",
    "st.markdown('For this project I have used Content Based Recommendation System, It uses attributes such as genre, director, description, actors, etc. for movies, to make suggestions for the users. The intuition behind this sort of recommendation system is that if a user liked a particular movie or show, he/she might like a movie or a show similar to it.')\n",
    "\n",
    "df1 = pickle.load(open('movie_list.pkl ', 'rb'))\n",
    "tfidf_matrix = pickle.load(open('tfidf_matrix.pkl ', 'rb'))\n",
    "\n",
    "movies_list = df1['title'].values\n",
    "selected_movie = st.selectbox('Type and Choose The Movie',movies_list)\n",
    "\n",
    "if st.button('Show Recommendation'):\n",
    "    poster,recommended_movie_names,recommended_movie_posters,recommended_movie_overview = get_recommendation(selected_movie)\n",
    "    st.image(poster,width=160)\n",
    "    col1, col2, col3, col4 = st.columns(4)\n",
    "    with col1:\n",
    "        st.image(recommended_movie_posters[0])\n",
    "        st.markdown(recommended_movie_names[0])\n",
    "        with st.expander(\"OverView\"):\n",
    "            st.write(recommended_movie_overview[0])\n",
    "\n",
    "        st.image(recommended_movie_posters[4])\n",
    "        st.markdown(recommended_movie_names[4])\n",
    "        with st.expander(\"OverView\"):\n",
    "            st.write(recommended_movie_overview[4])\n",
    "\n",
    "        st.image(recommended_movie_posters[8])\n",
    "        st.markdown(recommended_movie_names[8])\n",
    "        with st.expander(\"OverView\"):\n",
    "            st.write(recommended_movie_overview[8])\n",
    "\n",
    "    with col2:\n",
    "        st.image(recommended_movie_posters[1])\n",
    "        st.markdown(recommended_movie_names[1])\n",
    "        with st.expander(\"OverView\"):\n",
    "            st.write(recommended_movie_overview[1])\n",
    "\n",
    "        st.image(recommended_movie_posters[5])\n",
    "        st.markdown(recommended_movie_names[5])\n",
    "        with st.expander(\"OverView\"):\n",
    "            st.write(recommended_movie_overview[5])\n",
    "\n",
    "        st.image(recommended_movie_posters[9])\n",
    "        st.markdown(recommended_movie_names[9])\n",
    "        with st.expander(\"OverView\"):\n",
    "            st.write(recommended_movie_overview[9])\n",
    "\n",
    "    with col3:\n",
    "        st.image(recommended_movie_posters[2])\n",
    "        st.markdown(recommended_movie_names[2])\n",
    "        with st.expander(\"OverView\"):\n",
    "            st.write(recommended_movie_overview[2])\n",
    "\n",
    "        st.image(recommended_movie_posters[6])\n",
    "        st.markdown(recommended_movie_names[6])\n",
    "        with st.expander(\"OverView\"):\n",
    "            st.write(recommended_movie_overview[6])\n",
    "\n",
    "        st.image(recommended_movie_posters[10])\n",
    "        st.markdown(recommended_movie_names[10])\n",
    "        with st.expander(\"OverView\"):\n",
    "            st.write(recommended_movie_overview[10])\n",
    "\n",
    "    with col4:\n",
    "        st.image(recommended_movie_posters[3])\n",
    "        st.markdown(recommended_movie_names[3])\n",
    "        with st.expander(\"OverView\"):\n",
    "            st.write(recommended_movie_overview[3])\n",
    "\n",
    "        st.image(recommended_movie_posters[7])\n",
    "        st.markdown(recommended_movie_names[7])\n",
    "        with st.expander(\"OverView\"):\n",
    "            st.write(recommended_movie_overview[7])\n",
    "\n",
    "        st.image(recommended_movie_posters[11])\n",
    "        st.markdown(recommended_movie_names[11])\n",
    "        with st.expander(\"OverView\"):\n",
    "            st.write(recommended_movie_overview[11])\n"
   ]
  },
  {
   "cell_type": "markdown",
   "metadata": {},
   "source": [
    "When you'll run following cell, it will display a UI in your terminal with public URL of your tunnel and other status and metrics information about connections made over your tunnel"
   ]
  },
  {
   "cell_type": "code",
   "execution_count": null,
   "metadata": {
    "execution": {
     "iopub.execute_input": "2022-10-04T06:55:47.464836Z",
     "iopub.status.busy": "2022-10-04T06:55:47.464277Z",
     "iopub.status.idle": "2022-10-04T06:56:50.896234Z",
     "shell.execute_reply": "2022-10-04T06:56:50.894107Z",
     "shell.execute_reply.started": "2022-10-04T06:55:47.464779Z"
    }
   },
   "outputs": [],
   "source": [
    "!streamlit run movie_recommendation_app.py & npx localtunnel --port 8501 "
   ]
  },
  {
   "cell_type": "markdown",
   "metadata": {},
   "source": [
    "Sometimes it don't work in kaggle. if not working use Google Colab with same code and you'll get a link for the webapp"
   ]
  }
 ],
 "metadata": {
  "kernelspec": {
   "display_name": "Python 3 (ipykernel)",
   "language": "python",
   "name": "python3"
  },
  "language_info": {
   "codemirror_mode": {
    "name": "ipython",
    "version": 3
   },
   "file_extension": ".py",
   "mimetype": "text/x-python",
   "name": "python",
   "nbconvert_exporter": "python",
   "pygments_lexer": "ipython3",
   "version": "3.10.9"
  }
 },
 "nbformat": 4,
 "nbformat_minor": 4
}
